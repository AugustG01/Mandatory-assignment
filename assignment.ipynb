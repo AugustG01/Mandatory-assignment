{
 "cells": [
  {
   "cell_type": "code",
   "execution_count": 2,
   "metadata": {},
   "outputs": [],
   "source": [
    "directors = {'Benny',' Hans', 'Tine', 'Mille', 'Torben', 'Troels', 'Søren'}\n",
    "\n",
    "management = {'Tine', 'Trunte', 'Rane'}\n",
    "\n",
    "employees = {'Niels', 'Anna', 'Tine', 'Ole', 'Trunte', 'Bent', 'Rane', 'Allan', 'Stine', 'Claus', 'James', 'Lars'}"
   ]
  },
  {
   "cell_type": "markdown",
   "metadata": {},
   "source": [
    "who in the board of directors is not an employee?"
   ]
  },
  {
   "cell_type": "code",
   "execution_count": 4,
   "metadata": {},
   "outputs": [
    {
     "data": {
      "text/plain": [
       "{' Hans', 'Benny', 'Mille', 'Søren', 'Torben', 'Troels'}"
      ]
     },
     "execution_count": 4,
     "metadata": {},
     "output_type": "execute_result"
    }
   ],
   "source": [
    "directors.difference(employees)"
   ]
  },
  {
   "cell_type": "markdown",
   "metadata": {},
   "source": [
    "who in the board of directors is also an employee?"
   ]
  },
  {
   "cell_type": "code",
   "execution_count": 5,
   "metadata": {},
   "outputs": [
    {
     "data": {
      "text/plain": [
       "{'Tine'}"
      ]
     },
     "execution_count": 5,
     "metadata": {},
     "output_type": "execute_result"
    }
   ],
   "source": [
    "directors.intersection(employees)"
   ]
  },
  {
   "cell_type": "markdown",
   "metadata": {},
   "source": [
    "how many of the management is also member of the board?"
   ]
  },
  {
   "cell_type": "code",
   "execution_count": 7,
   "metadata": {},
   "outputs": [
    {
     "data": {
      "text/plain": [
       "{'Tine'}"
      ]
     },
     "execution_count": 7,
     "metadata": {},
     "output_type": "execute_result"
    }
   ],
   "source": [
    "directors.intersection(management)"
   ]
  },
  {
   "cell_type": "markdown",
   "metadata": {},
   "source": [
    "All members of the management also an employee?"
   ]
  },
  {
   "cell_type": "code",
   "execution_count": 16,
   "metadata": {},
   "outputs": [
    {
     "data": {
      "text/plain": [
       "True"
      ]
     },
     "execution_count": 16,
     "metadata": {},
     "output_type": "execute_result"
    }
   ],
   "source": [
    "management.issubset(employees)\n"
   ]
  },
  {
   "cell_type": "markdown",
   "metadata": {},
   "source": [
    "All members of the management also in the board?"
   ]
  },
  {
   "cell_type": "code",
   "execution_count": 3,
   "metadata": {},
   "outputs": [
    {
     "data": {
      "text/plain": [
       "False"
      ]
     },
     "execution_count": 3,
     "metadata": {},
     "output_type": "execute_result"
    }
   ],
   "source": [
    "management.issubset(directors)"
   ]
  },
  {
   "cell_type": "markdown",
   "metadata": {},
   "source": [
    "Who is an employee, member of the management, and a member of the board?"
   ]
  },
  {
   "cell_type": "code",
   "execution_count": 6,
   "metadata": {},
   "outputs": [
    {
     "data": {
      "text/plain": [
       "{'Tine'}"
      ]
     },
     "execution_count": 6,
     "metadata": {},
     "output_type": "execute_result"
    }
   ],
   "source": [
    "employees.intersection(management, directors)"
   ]
  },
  {
   "cell_type": "markdown",
   "metadata": {},
   "source": [
    "Who of the employee is neither a memeber or the board or management?"
   ]
  },
  {
   "cell_type": "code",
   "execution_count": 7,
   "metadata": {},
   "outputs": [
    {
     "data": {
      "text/plain": [
       "{'Allan', 'Anna', 'Bent', 'Claus', 'James', 'Lars', 'Niels', 'Ole', 'Stine'}"
      ]
     },
     "execution_count": 7,
     "metadata": {},
     "output_type": "execute_result"
    }
   ],
   "source": [
    "employees.difference(management, directors)"
   ]
  },
  {
   "cell_type": "markdown",
   "metadata": {},
   "source": [
    "2. Create a list of tuples from the folowing datastructure"
   ]
  },
  {
   "cell_type": "code",
   "execution_count": 10,
   "metadata": {},
   "outputs": [],
   "source": [
    "tuple = ('a', 'Alpha', 'b', 'Beta', 'g', 'Gamma')"
   ]
  },
  {
   "cell_type": "markdown",
   "metadata": {},
   "source": [
    "3. From these 2 sets:"
   ]
  },
  {
   "cell_type": "code",
   "execution_count": 11,
   "metadata": {},
   "outputs": [],
   "source": [
    "letters1 = {'a', 'e', 'i', 'o', 'u', 'y'}\n",
    "\n",
    "letters2 = {'a', 'e', 'i', 'o', 'u', 'y', 'æ' ,'ø', 'å'}"
   ]
  },
  {
   "cell_type": "markdown",
   "metadata": {},
   "source": [
    "Create a: Union"
   ]
  },
  {
   "cell_type": "code",
   "execution_count": 20,
   "metadata": {},
   "outputs": [],
   "source": [
    "letters1.union(letters2)\n",
    "\n",
    "union_set_method = letters1.union(letters2)\n",
    "union_set_operator = letters1 | letters2"
   ]
  },
  {
   "cell_type": "markdown",
   "metadata": {},
   "source": [
    "Create a: Symmetric difference"
   ]
  },
  {
   "cell_type": "code",
   "execution_count": 14,
   "metadata": {},
   "outputs": [
    {
     "data": {
      "text/plain": [
       "{'å', 'æ', 'ø'}"
      ]
     },
     "execution_count": 14,
     "metadata": {},
     "output_type": "execute_result"
    }
   ],
   "source": [
    "symmetric_set_method = letters1.symmetric_difference(letters2)\n",
    "symmetric_set_operator = letters1 ^ letters2\n",
    "\n"
   ]
  },
  {
   "cell_type": "markdown",
   "metadata": {},
   "source": [
    "Create a: Difference"
   ]
  },
  {
   "cell_type": "code",
   "execution_count": 17,
   "metadata": {},
   "outputs": [
    {
     "data": {
      "text/plain": [
       "{'å', 'æ', 'ø'}"
      ]
     },
     "execution_count": 17,
     "metadata": {},
     "output_type": "execute_result"
    }
   ],
   "source": [
    "difference_set_method = letters2.difference(letters1)\n",
    "difference_set_operator = letters2 - letters1"
   ]
  },
  {
   "cell_type": "markdown",
   "metadata": {},
   "source": [
    "Create a: disjoint"
   ]
  },
  {
   "cell_type": "code",
   "execution_count": 19,
   "metadata": {},
   "outputs": [
    {
     "data": {
      "text/plain": [
       "False"
      ]
     },
     "execution_count": 19,
     "metadata": {},
     "output_type": "execute_result"
    }
   ],
   "source": [
    "disjoint_set_method = letters1.isdisjoint(letters2)\n",
    "\n"
   ]
  },
  {
   "cell_type": "markdown",
   "metadata": {},
   "source": [
    "4. Date Decoder."
   ]
  },
  {
   "cell_type": "code",
   "execution_count": 38,
   "metadata": {},
   "outputs": [
    {
     "data": {
      "text/plain": [
       "('8', '02', '2022')"
      ]
     },
     "execution_count": 38,
     "metadata": {},
     "output_type": "execute_result"
    }
   ],
   "source": [
    "#A date of the form 8-MAR-85 includes the name of the month, which must be translated to a number.\n",
    "#Create a dict suitable for decoding month names to numbers.\n",
    "#Create a function which uses string operations to split the date into 3 items using the \"-\" character.\n",
    "#Translate the month, correct the year to include all of the digits.\n",
    "\n",
    "date = '8-FEB-22'\n",
    "\n",
    "date_dict = {'JAN': '01', 'FEB': '02', 'MAR': '03', 'APR': '04', 'MAY': '05', 'JUN': '06', 'JUL': '07', 'AUG': '08', 'SEP': '09', 'OCT': '10', 'NOV': '11', 'DEC': '12'}\n",
    "\n",
    "def date_contains(date):\n",
    "    date_list = date.split('-')\n",
    "    day = date_list[0]\n",
    "    month = date_list[1]\n",
    "    year = date_list[2]\n",
    "    if int(year) < 70:\n",
    "        year = '20' + year\n",
    "    else:\n",
    "        year = '19' + year\n",
    "    return day, date_dict[month], year\n",
    "\n",
    "\n",
    "date_contains(date)"
   ]
  },
  {
   "cell_type": "markdown",
   "metadata": {},
   "source": [
    "5. Party exercise\n",
    "\n",
    "You are organizing a party and have two lists of friends. One list contains the friends you have invited, and the other list contains the friends who have RSVP'd.\n",
    "\n",
    "You want to find out who has not RSVP'd, who was not invited but RSVP'd, and who are common in both lists.\n",
    "\n",
    "Task: Write a Python program that takes two sets of names, one set containing the names of friends invited to the party and another set containing the names of friends who have RSVP'd.\n",
    "The program should then print out the names of friends who have not RSVP'd, the names of friends who were not invited but RSVP'd, and the names of friends who are common in both lists (i.e., invited and RSVP'd)."
   ]
  },
  {
   "cell_type": "code",
   "execution_count": 41,
   "metadata": {},
   "outputs": [
    {
     "data": {
      "text/plain": [
       "{'Iben', 'Kurt'}"
      ]
     },
     "execution_count": 41,
     "metadata": {},
     "output_type": "execute_result"
    }
   ],
   "source": [
    "friendsInvited = {'Peter', 'Mette', 'Anne', 'Kurt', 'Iben'}\n",
    "friendsRSVPd = {'Peter', 'Mette', 'Anne', 'August','Bob'}\n",
    "\n",
    "\n",
    "\n"
   ]
  },
  {
   "cell_type": "markdown",
   "metadata": {},
   "source": [
    "names of friends who have not RSVP'd"
   ]
  },
  {
   "cell_type": "code",
   "execution_count": 42,
   "metadata": {},
   "outputs": [
    {
     "data": {
      "text/plain": [
       "{'Iben', 'Kurt'}"
      ]
     },
     "execution_count": 42,
     "metadata": {},
     "output_type": "execute_result"
    }
   ],
   "source": [
    "friendsInvited.difference(friendsRSVPd)"
   ]
  },
  {
   "cell_type": "markdown",
   "metadata": {},
   "source": [
    "the names of friends who were not invited but RSVP'd"
   ]
  },
  {
   "cell_type": "code",
   "execution_count": 43,
   "metadata": {},
   "outputs": [
    {
     "data": {
      "text/plain": [
       "{'August', 'Bob'}"
      ]
     },
     "execution_count": 43,
     "metadata": {},
     "output_type": "execute_result"
    }
   ],
   "source": [
    "friendsRSVPd.difference(friendsInvited)"
   ]
  },
  {
   "cell_type": "markdown",
   "metadata": {},
   "source": [
    "the names of friends who are common in both lists"
   ]
  },
  {
   "cell_type": "code",
   "execution_count": 44,
   "metadata": {},
   "outputs": [
    {
     "data": {
      "text/plain": [
       "{'Anne', 'Mette', 'Peter'}"
      ]
     },
     "execution_count": 44,
     "metadata": {},
     "output_type": "execute_result"
    }
   ],
   "source": [
    "friendsInvited.intersection(friendsRSVPd)"
   ]
  },
  {
   "cell_type": "markdown",
   "metadata": {},
   "source": [
    "You are a teacher and have a dictionary containing the names of your students as keys and their grades as values.\n",
    "\n",
    "You want to update the grades of some students and then print out the names of all students who have a grade higher than 85.\n",
    "\n",
    "Task: Write a Python program that takes a dictionary of students and their grades, updates the grades of specific students, and then prints out the names of all students who have a grade higher than 85."
   ]
  },
  {
   "cell_type": "code",
   "execution_count": 51,
   "metadata": {},
   "outputs": [],
   "source": [
    "students = {'August': 85, 'Bob': 65, 'Claus': 75, 'James': 80, 'Lars': 90, 'Peter': 85, 'Mette': 65, 'Anne': 75, 'Kurt': 80, 'Iben': 90}\n"
   ]
  },
  {
   "cell_type": "markdown",
   "metadata": {},
   "source": [
    "updates the grades of specific students"
   ]
  },
  {
   "cell_type": "code",
   "execution_count": 53,
   "metadata": {},
   "outputs": [
    {
     "data": {
      "text/plain": [
       "{'August': 95,\n",
       " 'Bob': 65,\n",
       " 'Claus': 75,\n",
       " 'James': 80,\n",
       " 'Lars': 90,\n",
       " 'Peter': 85,\n",
       " 'Mette': 65,\n",
       " 'Anne': 75,\n",
       " 'Kurt': 80,\n",
       " 'Iben': 90}"
      ]
     },
     "execution_count": 53,
     "metadata": {},
     "output_type": "execute_result"
    }
   ],
   "source": [
    "def updateStudent(student, grade):\n",
    "    students[student] = grade\n",
    "    return students\n",
    "\n",
    "updateStudent('August', 95)"
   ]
  },
  {
   "cell_type": "markdown",
   "metadata": {},
   "source": [
    "prints out the names of all students who have a grade higher than 85"
   ]
  },
  {
   "cell_type": "code",
   "execution_count": 54,
   "metadata": {},
   "outputs": [
    {
     "name": "stdout",
     "output_type": "stream",
     "text": [
      "August 95\n",
      "Lars 90\n",
      "Iben 90\n"
     ]
    }
   ],
   "source": [
    "for student in students:\n",
    "    if students[student] > 85:\n",
    "        print(student, students[student])"
   ]
  }
 ],
 "metadata": {
  "kernelspec": {
   "display_name": "Python 3",
   "language": "python",
   "name": "python3"
  },
  "language_info": {
   "codemirror_mode": {
    "name": "ipython",
    "version": 3
   },
   "file_extension": ".py",
   "mimetype": "text/x-python",
   "name": "python",
   "nbconvert_exporter": "python",
   "pygments_lexer": "ipython3",
   "version": "3.11.4"
  },
  "orig_nbformat": 4
 },
 "nbformat": 4,
 "nbformat_minor": 2
}
